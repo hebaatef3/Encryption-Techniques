{
 "cells": [
  {
   "cell_type": "code",
   "execution_count": 5,
   "id": "9826d926",
   "metadata": {},
   "outputs": [
    {
     "name": "stdout",
     "output_type": "stream",
     "text": [
      "Enter q 71\n",
      "Enter alpha 7\n",
      "Enter first user num 5\n",
      "Enter second user num 12\n",
      "....................................................\n",
      "first public key 51\n",
      "second public key 4\n",
      "first secure key 30\n",
      "second secure key 30\n",
      "two secure keys are equal .. successful generation ><)\n"
     ]
    }
   ],
   "source": [
    "import math\n",
    "q=int(input(\"Enter q \",))\n",
    "alpha=int(input(\"Enter alpha \",))\n",
    "gcd=math.gcd(q,alpha)\n",
    "if (gcd!=1):\n",
    "    print(\"can't generate key as GCD doesn't equle 1\")\n",
    "else:\n",
    "    Xa=int(input(\"Enter first user num \",))\n",
    "    Xb=int(input(\"Enter second user num \",))\n",
    "    print(\"....................................................\")\n",
    "    Ya=(alpha**Xa)%q\n",
    "    print(\"first public key\",Ya)\n",
    "    Yb=(alpha**Xb)%q\n",
    "    print(\"second public key\",Yb)\n",
    "    key1=(Yb**Xa)%q\n",
    "    print(\"first secure key\",key1)\n",
    "    key2=(Ya**Xb)%q\n",
    "    print(\"second secure key\",key2)\n",
    "    print(\"two secure keys are equal .. successful generation ><)\")    \n",
    "    "
   ]
  },
  {
   "cell_type": "code",
   "execution_count": null,
   "id": "4e846dcf",
   "metadata": {},
   "outputs": [],
   "source": []
  },
  {
   "cell_type": "code",
   "execution_count": null,
   "id": "193e21be",
   "metadata": {},
   "outputs": [],
   "source": []
  }
 ],
 "metadata": {
  "kernelspec": {
   "display_name": "Python 3 (ipykernel)",
   "language": "python",
   "name": "python3"
  },
  "language_info": {
   "codemirror_mode": {
    "name": "ipython",
    "version": 3
   },
   "file_extension": ".py",
   "mimetype": "text/x-python",
   "name": "python",
   "nbconvert_exporter": "python",
   "pygments_lexer": "ipython3",
   "version": "3.10.0"
  }
 },
 "nbformat": 4,
 "nbformat_minor": 5
}
