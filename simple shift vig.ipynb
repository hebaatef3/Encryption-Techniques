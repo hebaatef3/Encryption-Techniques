{
 "cells": [
  {
   "cell_type": "code",
   "execution_count": 3,
   "id": "16cf5a3a",
   "metadata": {},
   "outputs": [
    {
     "name": "stdout",
     "output_type": "stream",
     "text": [
      "ciphr text is  uxvvyfqgpxaeiyrgu\n"
     ]
    }
   ],
   "source": [
    "#encryption simple shift vig\n",
    "import math\n",
    "alph={'a':0,'b':1,'c':2,'d':3,'e':4,'f':5,'g':6,'h':7,'i':8,'j':9,'k':10,'l':11,'m':12,'n':13,'o':14,'p':15,'q':16,'r':17,'s':18,'t':19,'u':20,'v':21,'w':22,'x':23,'y':24,'z':25}\n",
    "plain=\"weneedmoresnownow\"\n",
    "key=\"ytiruces\"\n",
    "p=list(plain)\n",
    "k=list(key)\n",
    "x=[]\n",
    "s=len(p)/len(k)\n",
    "for i in range(math.ceil(s)):\n",
    "    for j in k:\n",
    "        x.append(j)\n",
    "c=[]\n",
    "for i in range(len(p)):\n",
    "    res=(alph[p[i]]+alph[x[i]])%26\n",
    "    for letter,val in alph.items():\n",
    "        if val == res:\n",
    "            c.append(letter)\n",
    "cipher=''.join(c)\n",
    "print(\"ciphr text is \",cipher)\n"
   ]
  },
  {
   "cell_type": "code",
   "execution_count": 3,
   "id": "bbabf772",
   "metadata": {},
   "outputs": [
    {
     "name": "stdout",
     "output_type": "stream",
     "text": [
      "plain text is  weneedmoresnownow\n"
     ]
    }
   ],
   "source": [
    "#decryption simple shift vig\n",
    "import math\n",
    "alph={'a':0,'b':1,'c':2,'d':3,'e':4,'f':5,'g':6,'h':7,'i':8,'j':9,'k':10,'l':11,'m':12,'n':13,'o':14,'p':15,'q':16,'r':17,'s':18,'t':19,'u':20,'v':21,'w':22,'x':23,'y':24,'z':25}\n",
    "ciphr=\"uxvvyfqgpxaeiyrgu\"\n",
    "key=\"ytiruces\"\n",
    "c=list(ciphr)\n",
    "k=list(key)\n",
    "x=[]\n",
    "s=len(c)/len(k)\n",
    "for i in range(math.ceil(s)):\n",
    "    for j in k:\n",
    "        x.append(j)\n",
    "p=[]\n",
    "for i in range(len(c)):\n",
    "    res=(alph[c[i]]-alph[x[i]])%26\n",
    "    for letter,val in alph.items(): \n",
    "        if val == res:\n",
    "            p.append(letter)\n",
    "plain=''.join(p)\n",
    "print(\"plain text is \",plain)\n"
   ]
  },
  {
   "cell_type": "code",
   "execution_count": null,
   "id": "c184ac71",
   "metadata": {},
   "outputs": [],
   "source": []
  }
 ],
 "metadata": {
  "kernelspec": {
   "display_name": "Python 3 (ipykernel)",
   "language": "python",
   "name": "python3"
  },
  "language_info": {
   "codemirror_mode": {
    "name": "ipython",
    "version": 3
   },
   "file_extension": ".py",
   "mimetype": "text/x-python",
   "name": "python",
   "nbconvert_exporter": "python",
   "pygments_lexer": "ipython3",
   "version": "3.10.0"
  }
 },
 "nbformat": 4,
 "nbformat_minor": 5
}
