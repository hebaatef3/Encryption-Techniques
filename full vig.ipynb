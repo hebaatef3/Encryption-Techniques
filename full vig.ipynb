{
 "cells": [
  {
   "cell_type": "code",
   "execution_count": 1,
   "id": "01a88ab3",
   "metadata": {},
   "outputs": [
    {
     "name": "stdout",
     "output_type": "stream",
     "text": [
      "cipher text is  eige\n"
     ]
    }
   ],
   "source": [
    "#encryption full vig\n",
    "import math\n",
    "import pandas as pd\n",
    "import numpy as np\n",
    "col=['a','b','c','d','e','f','g','h','i','j','k','l','m','n','o','p','q','r','s','t','u','v','w','x','y','z']\n",
    "rows=['a','b','c','d','e','f','g','h','i','j','k','l','m','n','o','p','q','r','s','t','u','v','w','x','y','z']\n",
    "data=[[],[],[],[],[],[],[],[],[],[],[],[],[],[],[],[],[],[],[],[],[],[],[],[],[],[]]\n",
    "for element in range(len(data)):\n",
    "    data[element]=col[element:]    \n",
    "for element in range(len(data)):\n",
    "    res=len(col)-len(data[element])\n",
    "    data[element].extend(col[0:res])    \n",
    "df=pd.DataFrame(data,columns=col,index=rows)\n",
    "#print(df)\n",
    "plain=\"beda\"\n",
    "key=\"de\"\n",
    "p=list(plain)\n",
    "k=list(key)\n",
    "x=[]\n",
    "s=len(p)/len(k)\n",
    "for i in range(math.ceil(s)):\n",
    "    for j in k:\n",
    "        x.append(j)\n",
    "#print(p)\n",
    "#print(x)\n",
    "c=[]\n",
    "for i in range(len(p)):\n",
    "    res=df.loc[p[i],x[i]]\n",
    "    c.append(res)\n",
    "cipher=''.join(c)\n",
    "print(\"cipher text is \",cipher)\n"
   ]
  },
  {
   "cell_type": "code",
   "execution_count": 2,
   "id": "ef194e95",
   "metadata": {},
   "outputs": [
    {
     "name": "stdout",
     "output_type": "stream",
     "text": [
      "plain text is  beda\n"
     ]
    }
   ],
   "source": [
    "#deccryption full vig\n",
    "import math\n",
    "import pandas as pd\n",
    "import numpy as np\n",
    "col=['a','b','c','d','e','f','g','h','i','j','k','l','m','n','o','p','q','r','s','t','u','v','w','x','y','z']\n",
    "rows=['a','b','c','d','e','f','g','h','i','j','k','l','m','n','o','p','q','r','s','t','u','v','w','x','y','z']\n",
    "data=[[],[],[],[],[],[],[],[],[],[],[],[],[],[],[],[],[],[],[],[],[],[],[],[],[],[]]\n",
    "for element in range(len(data)):\n",
    "    data[element]=col[element:]    \n",
    "for element in range(len(data)): \n",
    "    res=len(col)-len(data[element])\n",
    "    data[element].extend(col[0:res])    \n",
    "df=pd.DataFrame(data,columns=col,index=rows)\n",
    "#print(df)\n",
    "cipher=\"eige\"\n",
    "key=\"de\"\n",
    "c=list(cipher)\n",
    "k=list(key)\n",
    "x=[]\n",
    "s=len(c)/len(k)\n",
    "for i in range(math.ceil(s)):\n",
    "    for j in k:\n",
    "        x.append(j)\n",
    "#print(x)\n",
    "#print(c)\n",
    "p=[]\n",
    "for i in range(len(x)):\n",
    "    final=df[x[i]][df[x[i]]==c[i]]\n",
    "    res=final.index.tolist()\n",
    "    p.extend(res)\n",
    "plain=''.join(p)\n",
    "print(\"plain text is \",plain)\n"
   ]
  },
  {
   "cell_type": "code",
   "execution_count": null,
   "id": "526598c3",
   "metadata": {},
   "outputs": [],
   "source": []
  }
 ],
 "metadata": {
  "kernelspec": {
   "display_name": "Python 3 (ipykernel)",
   "language": "python",
   "name": "python3"
  },
  "language_info": {
   "codemirror_mode": {
    "name": "ipython",
    "version": 3
   },
   "file_extension": ".py",
   "mimetype": "text/x-python",
   "name": "python",
   "nbconvert_exporter": "python",
   "pygments_lexer": "ipython3",
   "version": "3.10.0"
  }
 },
 "nbformat": 4,
 "nbformat_minor": 5
}
