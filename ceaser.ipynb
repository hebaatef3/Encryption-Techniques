{
 "cells": [
  {
   "cell_type": "code",
   "execution_count": 1,
   "id": "28abea92",
   "metadata": {},
   "outputs": [
    {
     "name": "stdout",
     "output_type": "stream",
     "text": [
      "ciphr text is  phhwphdiwhusduwb\n"
     ]
    }
   ],
   "source": [
    "#encryption ceaser\n",
    "alph={'a':0,'b':1,'c':2,'d':3,'e':4,'f':5,'g':6,'h':7,'i':8,'j':9,'k':10,'l':11,'m':12,'n':13,'o':14,'p':15,'q':16,'r':17\n",
    "      ,'s':18,'t':19,'u':20,'v':21,'w':22,'x':23,'y':24,'z':25}\n",
    "plain=\"meetmeafterparty\"\n",
    "p=list(plain)\n",
    "key=3    \n",
    "c=[]\n",
    "for i in range(len(p)):\n",
    "    res=(alph[p[i]]+key)%26\n",
    "    for letter,val in alph.items():\n",
    "        if val == res:\n",
    "            c.append(letter)\n",
    "ciphr=''.join(c)\n",
    "print(\"ciphr text is \",ciphr)\n"
   ]
  },
  {
   "cell_type": "code",
   "execution_count": 2,
   "id": "91321fb7",
   "metadata": {},
   "outputs": [
    {
     "name": "stdout",
     "output_type": "stream",
     "text": [
      "plain text is  meet\n"
     ]
    }
   ],
   "source": [
    "#decryption ceaser\n",
    "alph={'a':0,'b':1,'c':2,'d':3,'e':4,'f':5,'g':6,'h':7,'i':8,'j':9,'k':10,'l':11,'m':12,'n':13,'o':14,'p':15,'q':16,'r':17\n",
    "      ,'s':18,'t':19,'u':20,'v':21,'w':22,'x':23,'y':24,'z':25}\n",
    "ciphr=\"phhw\"\n",
    "c=list(ciphr)\n",
    "key=3    \n",
    "p=[]\n",
    "for i in range(len(c)):\n",
    "    res=(alph[c[i]]-key)%26 \n",
    "    for letter,val in alph.items():\n",
    "        if val == res: \n",
    "            p.append(letter)\n",
    "plain=''.join(p)\n",
    "print(\"plain text is \",plain)\n"
   ]
  },
  {
   "cell_type": "code",
   "execution_count": 3,
   "id": "74824743",
   "metadata": {},
   "outputs": [
    {
     "name": "stdout",
     "output_type": "stream",
     "text": [
      "ciphr text is  phhwcphcdiwhucsduwa\n"
     ]
    }
   ],
   "source": [
    "#encryption with space\n",
    "alph={\" \":0,'a':1,'b':2,'c':3,'d':4,'e':5,'f':6,'g':7,'h':8,'i':9,'j':10,'k':11,'l':12,'m':13,'n':14,'o':15,'p':16,'q':17,'r':18\n",
    "      ,'s':19,'t':20,'u':21,'v':22,'w':23,'x':24,'y':25,'z':26}\n",
    "plain=\"meet me after party\"\n",
    "p=list(plain)\n",
    "key=3    \n",
    "c=[]\n",
    "for i in range(len(p)):\n",
    "    res=(alph[p[i]]+key)%27\n",
    "    for letter,val in alph.items():\n",
    "        if val == res:\n",
    "            c.append(letter)\n",
    "ciphr=''.join(c)\n",
    "print(\"ciphr text is \",ciphr)\n"
   ]
  },
  {
   "cell_type": "code",
   "execution_count": 4,
   "id": "92a109d1",
   "metadata": {},
   "outputs": [
    {
     "name": "stdout",
     "output_type": "stream",
     "text": [
      "plain text is  meet me after party\n"
     ]
    }
   ],
   "source": [
    "#decryption with space\n",
    "alph={\" \":0,'a':1,'b':2,'c':3,'d':4,'e':5,'f':6,'g':7,'h':8,'i':9,'j':10,'k':11,'l':12,'m':13,'n':14,'o':15,'p':16,'q':17,'r':18\n",
    "      ,'s':19,'t':20,'u':21,'v':22,'w':23,'x':24,'y':25,'z':26}\n",
    "ciphr=\"phhwcphcdiwhucsduwa\"\n",
    "c=list(ciphr)\n",
    "key=3    \n",
    "p=[]\n",
    "for i in range(len(c)):\n",
    "    res=(alph[c[i]]-key)%27 \n",
    "    for letter,val in alph.items():\n",
    "        if val == res:\n",
    "            p.append(letter)\n",
    "plain=''.join(p)\n",
    "print(\"plain text is \",plain)\n"
   ]
  },
  {
   "cell_type": "code",
   "execution_count": null,
   "id": "c0d2faa1",
   "metadata": {},
   "outputs": [],
   "source": []
  }
 ],
 "metadata": {
  "kernelspec": {
   "display_name": "Python 3 (ipykernel)",
   "language": "python",
   "name": "python3"
  },
  "language_info": {
   "codemirror_mode": {
    "name": "ipython",
    "version": 3
   },
   "file_extension": ".py",
   "mimetype": "text/x-python",
   "name": "python",
   "nbconvert_exporter": "python",
   "pygments_lexer": "ipython3",
   "version": "3.10.0"
  }
 },
 "nbformat": 4,
 "nbformat_minor": 5
}
