{
 "cells": [
  {
   "cell_type": "code",
   "execution_count": 3,
   "id": "53452a58",
   "metadata": {},
   "outputs": [],
   "source": [
    "#encryption transposition\n",
    "import pandas as pd\n",
    "alph=['a','b','c','d','e','f','g','h','i','j','k','l','m','n','o','p','q','r','s','t','u','v','w','x','y','z']\n",
    "plain=\"weneedmoresnownow\"\n",
    "key=\"securit\"\n",
    "k=list(key)\n",
    "p=[]\n",
    "for i in range(0,len(plain),len(k)):\n",
    "    p.append(plain[i:i+len(k)])\n",
    "#print(p)\n",
    "data=[]\n",
    "for i in p:\n",
    "    res=list(i)\n",
    "    data.append(res)\n",
    "    dif=len(k)-len(res)\n",
    "    if(len(res)!=len(k)):\n",
    "        res.extend(alph[0:dif]) \n",
    "#print(data)    \n",
    "df=pd.DataFrame(data,columns=k)\n",
    "s=[]\n",
    "for name in df:\n",
    "    s.append(name)\n",
    "    s.sort()\n",
    "c=[]\n",
    "for i in s: \n",
    "    c.extend(df[i])\n",
    "#print(c)\n",
    "ciphr=''.join(c)\n",
    "\n",
    "print(\"ciphr text is \",ciphr)\n"
   ]
  },
  {
   "cell_type": "code",
   "execution_count": 4,
   "id": "606c02ef",
   "metadata": {},
   "outputs": [],
   "source": [
    "#decryption transposition\n",
    "alph=['a','b','c','d','e','f','g','h','i','j','k','l','m','n','o','p','q','r','s','t','u','v','w','x','y','z']\n",
    "ciphr=\"newerodocenbwonmwdesa\"\n",
    "key=\"securit\"\n",
    "k=list(key)\n",
    "rows=int(len(ciphr)/len(k))\n",
    "df=pd.DataFrame(data,columns=k,index=range(rows))\n",
    "p=[]\n",
    "for i in df.index:\n",
    "    p.extend(df.iloc[i])\n",
    "plain=''.join(p)\n",
    "print(\"plain text is \",plain)\n"
   ]
  },
  {
   "cell_type": "code",
   "execution_count": null,
   "id": "348961a2",
   "metadata": {},
   "outputs": [],
   "source": []
  }
 ],
 "metadata": {
  "kernelspec": {
   "display_name": "Python 3 (ipykernel)",
   "language": "python",
   "name": "python3"
  },
  "language_info": {
   "codemirror_mode": {
    "name": "ipython",
    "version": 3
   },
   "file_extension": ".py",
   "mimetype": "text/x-python",
   "name": "python",
   "nbconvert_exporter": "python",
   "pygments_lexer": "ipython3",
   "version": "3.10.0"
  }
 },
 "nbformat": 4,
 "nbformat_minor": 5
}
