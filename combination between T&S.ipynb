{
 "cells": [
  {
   "cell_type": "code",
   "execution_count": 1,
   "id": "715cc362",
   "metadata": {},
   "outputs": [
    {
     "name": "stdout",
     "output_type": "stream",
     "text": [
      "ciphr text is  pydemeeymo\n"
     ]
    }
   ],
   "source": [
    "#encryption combination between S&T\n",
    "import pandas as pd\n",
    "import numpy as np\n",
    "head=['a','b','c','d','e']\n",
    "letters=['a','b','c','d','e','f','g','h','i','j','k','l','m','n','o','p','qz','r','s','t','u','v','w','x','y']\n",
    "data=[]\n",
    "for i in range(0,len(letters),5):\n",
    "    data.append(letters[i:i+5])\n",
    "#print(data)\n",
    "df=pd.DataFrame(data,index=head,columns=head)\n",
    "trans=df.T\n",
    "#print(df)\n",
    "plain=\"takemetoyo\"\n",
    "p=list(plain)\n",
    "l=[]\n",
    "for i in p:\n",
    "    l.extend(list(df.loc[df[df.values==i].index].index))\n",
    "    l.extend(list(trans.loc[trans[trans.values==i].index].index))\n",
    "length=int(len(l)/2)\n",
    "part1=[] #row\n",
    "part2=[] #column\n",
    "part1.extend(l[0:length])\n",
    "part2.extend(l[length:len(l)+1])\n",
    "#print(part1)\n",
    "#print(part2)\n",
    "c=[]\n",
    "for i in range(len(part1)):\n",
    "    c.append(df.loc[part1[i],part2[i]])\n",
    "#print(c)\n",
    "ciphr=''.join(c)\n",
    "print(\"ciphr text is \",ciphr)"
   ]
  },
  {
   "cell_type": "code",
   "execution_count": 73,
   "id": "18c93bc6",
   "metadata": {},
   "outputs": [
    {
     "name": "stdout",
     "output_type": "stream",
     "text": [
      "plain text is  takemetoyo\n"
     ]
    }
   ],
   "source": [
    "#decryption combination between S&T\n",
    "import pandas as pd\n",
    "import numpy as np\n",
    "head=['a','b','c','d','e']\n",
    "letters=['a','b','c','d','e','f','g','h','i','j','k','l','m','n','o','p','qz','r','s','t','u','v','w','x','y']\n",
    "data=[]\n",
    "for i in range(0,len(letters),5):\n",
    "    data.append(letters[i:i+5])\n",
    "#print(data)\n",
    "df=pd.DataFrame(data,index=head,columns=head)\n",
    "trans=df.T\n",
    "#print(df)\n",
    "ciphr=\"pydemeeymo\"\n",
    "c=list(ciphr)\n",
    "l=[]\n",
    "for i in c:\n",
    "    l.extend(list(df.loc[df[df.values==i].index].index))\n",
    "    l.extend(list(trans.loc[trans[trans.values==i].index].index))\n",
    "part=[]\n",
    "part.extend(l[0:len(l):2])\n",
    "part.extend(l[1:len(l)+1:2])\n",
    "#print(part)\n",
    "p=[]\n",
    "for i in range(0,len(part),2):\n",
    "    p.append(df.loc[part[i],part[i+1]])\n",
    "#print(p)\n",
    "plain=''.join(p)\n",
    "print(\"plain text is \", plain)\n",
    "\n",
    "    "
   ]
  },
  {
   "cell_type": "code",
   "execution_count": null,
   "id": "9fbe95e5",
   "metadata": {},
   "outputs": [],
   "source": []
  },
  {
   "cell_type": "code",
   "execution_count": null,
   "id": "ab4dc2e2",
   "metadata": {},
   "outputs": [],
   "source": []
  }
 ],
 "metadata": {
  "kernelspec": {
   "display_name": "Python 3 (ipykernel)",
   "language": "python",
   "name": "python3"
  },
  "language_info": {
   "codemirror_mode": {
    "name": "ipython",
    "version": 3
   },
   "file_extension": ".py",
   "mimetype": "text/x-python",
   "name": "python",
   "nbconvert_exporter": "python",
   "pygments_lexer": "ipython3",
   "version": "3.10.0"
  }
 },
 "nbformat": 4,
 "nbformat_minor": 5
}
