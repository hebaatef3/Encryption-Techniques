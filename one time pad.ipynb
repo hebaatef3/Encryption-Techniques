{
 "cells": [
  {
   "cell_type": "code",
   "execution_count": null,
   "id": "b6dc197c",
   "metadata": {},
   "outputs": [],
   "source": [
    "#encryption one time pad\n",
    "import math\n",
    "def toAscii(word):\n",
    "    l=[]\n",
    "    for i in word:\n",
    "        l.append(ord(i))\n",
    "    return l\n",
    "def toLetters(Ascii):\n",
    "    l=[]\n",
    "    for i in Ascii:\n",
    "        l.append(chr(i ))\n",
    "    return l\n",
    "    \n",
    "plain=\"hello world\"\n",
    "asplain=toAscii(plain)\n",
    "print(asplain)\n",
    "key=\"will be\"\n",
    "askey=toAscii(key)\n",
    "#print(askey)\n",
    "s=len(asplain)/len(askey)\n",
    "k=[]\n",
    "for i in range(math.ceil(s)):\n",
    "    for j in askey:\n",
    "        k.append(j)\n",
    "print(k)\n",
    "c=[]\n",
    "for i in range(len(asplain)):\n",
    "    res=asplain[i]^k[i]\n",
    "    c.append(res)\n",
    "print(c)   \n"
   ]
  },
  {
   "cell_type": "code",
   "execution_count": 62,
   "id": "aefc9ed7",
   "metadata": {},
   "outputs": [
    {
     "name": "stdout",
     "output_type": "stream",
     "text": [
      "[103, 100, 104, 115, 110, 97, 32, 107, 107, 97, 104]\n",
      "[119, 105, 108, 108, 32, 98, 101, 119, 105, 108, 108, 32, 98, 101]\n",
      "[16, 13, 4, 31, 78, 3, 69, 28, 2, 13, 4]\n"
     ]
    }
   ],
   "source": [
    "#decryption one time pad\n",
    "import math\n",
    "def toAscii(word):\n",
    "    l=[]\n",
    "    for i in word:\n",
    "        l.append(ord(i))\n",
    "    return l\n",
    "def toLetters(Ascii):\n",
    "    l=[]\n",
    "    for i in Ascii:\n",
    "        l.append(chr(i ))\n",
    "    return l\n",
    "    \n",
    "ciphr=\"gdhsna kkah\"\n",
    "asciphr=toAscii(ciphr)\n",
    "print(asciphr)\n",
    "key=\"will be\"\n",
    "askey=toAscii(key)\n",
    "#print(askey)\n",
    "s=len(asciphr)/len(askey)\n",
    "k=[]\n",
    "for i in range(math.ceil(s)):\n",
    "    for j in askey:\n",
    "        k.append(j)\n",
    "print(k)\n",
    "p=[]\n",
    "for i in range(len(asciphr)):\n",
    "    res=asciphr[i]^k[i]\n",
    "    p.append(res)\n",
    "print(p)  "
   ]
  },
  {
   "cell_type": "code",
   "execution_count": null,
   "id": "d3d07291",
   "metadata": {},
   "outputs": [],
   "source": []
  },
  {
   "cell_type": "code",
   "execution_count": null,
   "id": "0f1fd040",
   "metadata": {},
   "outputs": [],
   "source": []
  }
 ],
 "metadata": {
  "kernelspec": {
   "display_name": "Python 3 (ipykernel)",
   "language": "python",
   "name": "python3"
  },
  "language_info": {
   "codemirror_mode": {
    "name": "ipython",
    "version": 3
   },
   "file_extension": ".py",
   "mimetype": "text/x-python",
   "name": "python",
   "nbconvert_exporter": "python",
   "pygments_lexer": "ipython3",
   "version": "3.10.0"
  }
 },
 "nbformat": 4,
 "nbformat_minor": 5
}
