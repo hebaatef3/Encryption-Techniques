{
 "cells": [
  {
   "cell_type": "code",
   "execution_count": 255,
   "id": "73450f1e",
   "metadata": {},
   "outputs": [
    {
     "data": {
      "text/plain": [
       "'zncsdlynkzgeqs'"
      ]
     },
     "execution_count": 255,
     "metadata": {},
     "output_type": "execute_result"
    }
   ],
   "source": [
    "#encryption playfair\n",
    "import numpy as np\n",
    "import itertools\n",
    "key=\"sincebyman\"\n",
    "k=list(key)\n",
    "plain=\"zncsdlynkzgeqs\"\n",
    "blocks=[]\n",
    "for i in range(0, len(plain), 2):\n",
    "    blocks.append(plain[i:i+2])\n",
    "p=[]\n",
    "for i in blocks:\n",
    "    res=list(i)\n",
    "    p.append(res)\n",
    "for i in p[0:len(p)-1]: \n",
    "    if(i[0]==i[1]):\n",
    "        i.insert(1,'x')\n",
    "        i=''.join(i)\n",
    "p= ''.join(list(itertools.chain.from_iterable(p))) \n",
    "p"
   ]
  },
  {
   "cell_type": "code",
   "execution_count": 256,
   "id": "5d0c7efb",
   "metadata": {},
   "outputs": [
    {
     "data": {
      "text/plain": [
       "['zn', 'cs', 'dl', 'yn', 'kz', 'ge', 'qs']"
      ]
     },
     "execution_count": 256,
     "metadata": {},
     "output_type": "execute_result"
    }
   ],
   "source": [
    "block=[]\n",
    "for i in range(0, len(p), 2):\n",
    "    block.append(p[i:i+2])\n",
    "block\n"
   ]
  },
  {
   "cell_type": "code",
   "execution_count": 257,
   "id": "c338b70f",
   "metadata": {},
   "outputs": [
    {
     "name": "stdout",
     "output_type": "stream",
     "text": [
      "[['z', 'n'], ['c', 's'], ['d', 'l'], ['y', 'n'], ['k', 'z'], ['g', 'e'], ['q', 's']]\n"
     ]
    }
   ],
   "source": [
    "original=[]\n",
    "for i in block:\n",
    "    res=list(i)\n",
    "    original.append(res)\n",
    "    if(len(res)!=2):\n",
    "        res.append('x')\n",
    "print(original)"
   ]
  },
  {
   "cell_type": "code",
   "execution_count": 258,
   "id": "a9290ace",
   "metadata": {},
   "outputs": [
    {
     "data": {
      "text/plain": [
       "['s', 'i', 'n', 'c', 'e', 'b', 'y', 'm', 'a']"
      ]
     },
     "execution_count": 258,
     "metadata": {},
     "output_type": "execute_result"
    }
   ],
   "source": [
    "data=[]\n",
    "for i in range(0,len(k),5):\n",
    "    data.append(k[i:i+5])\n",
    "data=''.join(list(itertools.chain.from_iterable(data)))\n",
    "data = list(\"\".join(dict.fromkeys(data)))\n",
    "data=''.join(data)\n",
    "data=list(data)\n",
    "data"
   ]
  },
  {
   "cell_type": "code",
   "execution_count": 259,
   "id": "a7cd156f",
   "metadata": {},
   "outputs": [
    {
     "name": "stdout",
     "output_type": "stream",
     "text": [
      "[['s', 'i', 'n', 'c', 'e'], ['b', 'y', 'm', 'a', 'd'], ['f', 'g', 'h', 'k', 'l'], ['o', 'p', 'q', 'r', 't'], ['u', 'v', 'w', 'x', 'z']]\n",
      "[['z', 'n'], ['c', 's'], ['d', 'l'], ['y', 'n'], ['k', 'z'], ['g', 'e'], ['q', 's']]\n"
     ]
    }
   ],
   "source": [
    "letters=['a','b','c','d','e','f','g','h','i','j','k','l','m','n','o','p','q','r','s','t','u','v','w','x','y','z']\n",
    "for letter in letters:\n",
    "    if(letter not in data):\n",
    "        data.append(letter)\n",
    "if('j' in data):\n",
    "    data.remove('j')\n",
    "new=[]\n",
    "for i in range(0,len(data),5):\n",
    "    new.append(data[i:i+5])\n",
    "print(new)\n",
    "print(original)"
   ]
  },
  {
   "cell_type": "code",
   "execution_count": 254,
   "id": "b333fcbe",
   "metadata": {},
   "outputs": [
    {
     "name": "stdout",
     "output_type": "stream",
     "text": [
      "ciphr text is  zncsdlynkzgeqs\n"
     ]
    }
   ],
   "source": [
    "import pandas as pd\n",
    "df=pd.DataFrame(new,columns=range(5))\n",
    "df['5']=df[0]\n",
    "df['6']=df[1]\n",
    "df['7']=df[2]\n",
    "df['8']=df[3]\n",
    "df['9']=df[4]\n",
    "trans=df.T\n",
    "#print(df)\n",
    "c=[]\n",
    "for i in original:\n",
    "    if((list(df[df.values ==i[0]].index)[0])==(list(df[df.values ==i[1]].index)[0])):\n",
    "        x=list(df.loc[list(df[df.values ==i[0]].index)[0]])\n",
    "        c.append(x[x.index(i[0])+1])\n",
    "        c.append(x[x.index(i[1])+1])\n",
    "    elif((list(trans[trans.values ==i[0]].index)[0])==(list(trans[trans.values ==i[1]].index)[0])):\n",
    "        x=list(trans.loc[list(trans[trans.values ==i[0]].index)[0]])\n",
    "        c.append(x[x.index(i[0])+1])\n",
    "        c.append(x[x.index(i[1])+1])\n",
    "    else:\n",
    "        a=list(trans.loc[list(trans[trans.values ==i[0]].index)[0]])\n",
    "        b=list(trans.loc[list(trans[trans.values ==i[1]].index)[0]])\n",
    "        c.append(b[a.index(i[0])])\n",
    "        c.append(a[b.index(i[1])])\n",
    "#print(c)\n",
    "ciphr=''.join(c)\n",
    "print(\"ciphr text is \",ciphr)"
   ]
  },
  {
   "cell_type": "code",
   "execution_count": 260,
   "id": "8214f85d",
   "metadata": {},
   "outputs": [
    {
     "name": "stdout",
     "output_type": "stream",
     "text": [
      "ciphr text is  weneedmilxlion\n"
     ]
    }
   ],
   "source": [
    "import pandas as pd\n",
    "df=pd.DataFrame(new,columns=range(5))\n",
    "df['5']=df[0]\n",
    "df['6']=df[1]\n",
    "df['7']=df[2]\n",
    "df['8']=df[3]\n",
    "df['9']=df[4]\n",
    "trans=df.T\n",
    "#print(df)\n",
    "p=[]\n",
    "for i in original:\n",
    "    if((list(df[df.values ==i[0]].index)[0])==(list(df[df.values ==i[1]].index)[0])):\n",
    "        x=list(df.loc[list(df[df.values ==i[0]].index)[0]])\n",
    "        p.append(x[x.index(i[0])-1])\n",
    "        p.append(x[x.index(i[1])-1])\n",
    "    elif((list(trans[trans.values ==i[0]].index)[0])==(list(trans[trans.values ==i[1]].index)[0])):\n",
    "        x=list(trans.loc[list(trans[trans.values ==i[0]].index)[0]])\n",
    "        p.append(x[x.index(i[0])-1])\n",
    "        p.append(x[x.index(i[1])-1])\n",
    "    else:\n",
    "        a=list(trans.loc[list(trans[trans.values ==i[0]].index)[0]])\n",
    "        b=list(trans.loc[list(trans[trans.values ==i[1]].index)[0]])\n",
    "        p.append(b[a.index(i[0])])\n",
    "        p.append(a[b.index(i[1])])\n",
    "#print(c)\n",
    "plain=''.join(p)\n",
    "print(\"ciphr text is \",plain)"
   ]
  },
  {
   "cell_type": "code",
   "execution_count": null,
   "id": "9f5af09e",
   "metadata": {},
   "outputs": [],
   "source": [
    "#a=list(trans.loc[list(trans[trans.values =='o'].index)[0]])\n",
    "#b=list(trans.loc[list(trans[trans.values =='n'].index)[0]])\n",
    "#print(b[a.index('o')])\n",
    "#print(a[b.index('n')])\n"
   ]
  }
 ],
 "metadata": {
  "kernelspec": {
   "display_name": "Python 3 (ipykernel)",
   "language": "python",
   "name": "python3"
  },
  "language_info": {
   "codemirror_mode": {
    "name": "ipython",
    "version": 3
   },
   "file_extension": ".py",
   "mimetype": "text/x-python",
   "name": "python",
   "nbconvert_exporter": "python",
   "pygments_lexer": "ipython3",
   "version": "3.10.0"
  }
 },
 "nbformat": 4,
 "nbformat_minor": 5
}
