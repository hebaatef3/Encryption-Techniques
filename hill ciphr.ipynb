{
 "cells": [
  {
   "cell_type": "code",
   "execution_count": 1,
   "id": "1445eea2",
   "metadata": {},
   "outputs": [
    {
     "name": "stdout",
     "output_type": "stream",
     "text": [
      "ciphr text is  hiattcbj\n"
     ]
    }
   ],
   "source": [
    "#encryption hill cipher\n",
    "import numpy as np\n",
    "alph={'a':0,'b':1,'c':2,'d':3,'e':4,'f':5,'g':6,'h':7,'i':8,'j':9,'k':10,'l':11,'m':12,'n':13,'o':14,'p':15,'q':16,'r':17      ,'s':18,'t':19,'u':20,'v':21,'w':22,'x':23,'y':24,'z':25}\n",
    "plain=\"helphim\"\n",
    "key=np.array([[3,3],[2,5]])\n",
    "size=int((key.size)/2)\n",
    "blocks=[]\n",
    "for i in range(0, len(plain), size):\n",
    "    blocks.append(plain[i:i+size])\n",
    "#print(blocks)\n",
    "p=[]\n",
    "for i in blocks:\n",
    "    res=list(i)\n",
    "    p.append(res)\n",
    "    if(len(res)!=size):\n",
    "        res.append('x')\n",
    "#print(p)\n",
    "l=[]\n",
    "for i in p:\n",
    "    for j in i:\n",
    "        j=alph[j]\n",
    "        l.append(j)\n",
    "#print(l)\n",
    "letter=[]\n",
    "for i in range(0, len(l), size):\n",
    "    letter.append(l[i:i+size])\n",
    "#print(letter)\n",
    "c=[]\n",
    "for i in letter:\n",
    "    final=np.dot(key,i)%26\n",
    "    c.extend(final.tolist())\n",
    "ciphr=[]\n",
    "for i in c:\n",
    "    for letter,val in alph.items():\n",
    "        if val == i:\n",
    "            ciphr.append(letter)\n",
    "ciphr=''.join(ciphr) \n",
    "print(\"ciphr text is \",ciphr)\n"
   ]
  },
  {
   "cell_type": "code",
   "execution_count": 4,
   "id": "215d4a0d",
   "metadata": {},
   "outputs": [
    {
     "name": "stdout",
     "output_type": "stream",
     "text": [
      "plain text is  helphimx\n"
     ]
    }
   ],
   "source": [
    "#decryption hill cipher\n",
    "import numpy as np\n",
    "from scipy import linalg\n",
    "alph={'a':0,'b':1,'c':2,'d':3,'e':4,'f':5,'g':6,'h':7,'i':8,'j':9,'k':10,'l':11,'m':12,'n':13,'o':14,'p':15,'q':16,'r':17\n",
    "      ,'s':18,'t':19,'u':20,'v':21,'w':22,'x':23,'y':24,'z':25}\n",
    "ciphr=\"hiattcbj\"\n",
    "key=np.array([[3,3],[2,5]])\n",
    "determinant=int(np.linalg.det(key))\n",
    "det=pow(determinant, -1, 26)\n",
    "inverse=np.linalg.inv(key)\n",
    "size=int((key.size)/2)\n",
    "blocks=[]\n",
    "for i in range(0, len(ciphr), size):\n",
    "    blocks.append(ciphr[i:i+size])\n",
    "#print(blocks)\n",
    "c=[]\n",
    "for i in blocks:\n",
    "    res=list(i)\n",
    "    c.append(res)\n",
    "    if(len(res)!=size):\n",
    "        res.append('x')\n",
    "#print(p)\n",
    "l=[]\n",
    "for i in c:\n",
    "    for j in i:\n",
    "        j=alph[j]\n",
    "        l.append(j)\n",
    "letter=[]\n",
    "for i in range(0, len(l), size):\n",
    "    letter.append(l[i:i+size])\n",
    "#print(letter)    \n",
    "p=[]\n",
    "for i in letter:\n",
    "    final=(det*np.dot(inverse*determinant,i))%26\n",
    "    p.extend(final.tolist())\n",
    "#print(c)\n",
    "plain=[]\n",
    "for i in p:\n",
    "    for letter,val in alph.items():\n",
    "        if val == round(i):\n",
    "            plain.append(letter)    \n",
    "plain=''.join(plain)\n",
    "print(\"plain text is \",plain)\n"
   ]
  },
  {
   "cell_type": "code",
   "execution_count": null,
   "id": "7d012ea5",
   "metadata": {},
   "outputs": [],
   "source": []
  }
 ],
 "metadata": {
  "kernelspec": {
   "display_name": "Python 3 (ipykernel)",
   "language": "python",
   "name": "python3"
  },
  "language_info": {
   "codemirror_mode": {
    "name": "ipython",
    "version": 3
   },
   "file_extension": ".py",
   "mimetype": "text/x-python",
   "name": "python",
   "nbconvert_exporter": "python",
   "pygments_lexer": "ipython3",
   "version": "3.10.0"
  }
 },
 "nbformat": 4,
 "nbformat_minor": 5
}
