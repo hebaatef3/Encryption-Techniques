{
 "cells": [
  {
   "cell_type": "code",
   "execution_count": 1,
   "id": "1d11c14d",
   "metadata": {},
   "outputs": [
    {
     "name": "stdout",
     "output_type": "stream",
     "text": [
      "ciphr text is  ikzjkgn\n"
     ]
    }
   ],
   "source": [
    "#encryption affine\n",
    "alph={'a':0,'b':1,'c':2,'d':3,'e':4,'f':5,'g':6,'h':7,'i':8,'j':9,'k':10,'l':11,'m':12,'n':13,'o':14,'p':15,'q':16,'r':17\n",
    "      ,'s':18,'t':19,'u':20,'v':21,'w':22,'x':23,'y':24,'z':25}\n",
    "m=7\n",
    "key=10\n",
    "plain=\"warlast\"\n",
    "p=list(plain)\n",
    "c=[]\n",
    "for i in range(len(p)):\n",
    "    res=(m*alph[p[i]]+key)%26\n",
    "    for letter,val in alph.items():\n",
    "        if val == res:\n",
    "            c.append(letter)\n",
    "ciphr=''.join(c)\n",
    "print(\"ciphr text is \",ciphr)\n"
   ]
  },
  {
   "cell_type": "code",
   "execution_count": 2,
   "id": "c3f74328",
   "metadata": {},
   "outputs": [
    {
     "name": "stdout",
     "output_type": "stream",
     "text": [
      "plain text is  warlast\n"
     ]
    }
   ],
   "source": [
    "#decryption affine\n",
    "alph={'a':0,'b':1,'c':2,'d':3,'e':4,'f':5,'g':6,'h':7,'i':8,'j':9,'k':10,'l':11,'m':12,'n':13,'o':14,'p':15,'q':16,'r':17\n",
    "      ,'s':18,'t':19,'u':20,'v':21,'w':22,'x':23,'y':24,'z':25}\n",
    "m=7\n",
    "v=pow(m, -1, 26)\n",
    "key=10\n",
    "ciphr=\"ikzjkgn\"\n",
    "c=list(ciphr)\n",
    "p=[]\n",
    "for i in range(len(c)):\n",
    "    res=(v*(alph[c[i]]-key))%26\n",
    "    for letter,val in alph.items():\n",
    "        if val == res:\n",
    "            p.append(letter)\n",
    "plain=''.join(p)\n",
    "print(\"plain text is \",plain)\n"
   ]
  },
  {
   "cell_type": "code",
   "execution_count": 3,
   "id": "56b2d3b8",
   "metadata": {},
   "outputs": [
    {
     "name": "stdout",
     "output_type": "stream",
     "text": [
      "ciphr text is  iqajmqho\n"
     ]
    }
   ],
   "source": [
    "#encryption with space\n",
    "alph={\" \":0,'a':1,'b':2,'c':3,'d':4,'e':5,'f':6,'g':7,'h':8,'i':9,'j':10,'k':11,'l':12,'m':13,'n':14,'o':15,'p':16,'q':17,'r':18\n",
    "      ,'s':19,'t':20,'u':21,'v':22,'w':23,'x':24,'y':25,'z':26}\n",
    "m=7\n",
    "key=10\n",
    "plain=\"war last\"\n",
    "p=list(plain)\n",
    "c=[]\n",
    "for i in range(len(p)):\n",
    "    res=(m*alph[p[i]]+key)%27\n",
    "    for letter,val in alph.items():\n",
    "        if val == res:\n",
    "            c.append(letter)\n",
    "ciphr=''.join(c)\n",
    "print(\"ciphr text is \",ciphr)\n"
   ]
  },
  {
   "cell_type": "code",
   "execution_count": 5,
   "id": "38c3d95a",
   "metadata": {},
   "outputs": [
    {
     "name": "stdout",
     "output_type": "stream",
     "text": [
      "plain text is  war last\n"
     ]
    }
   ],
   "source": [
    "#decryption with space\n",
    "alph={\" \":0,'a':1,'b':2,'c':3,'d':4,'e':5,'f':6,'g':7,'h':8,'i':9,'j':10,'k':11,'l':12,'m':13,'n':14,'o':15,'p':16,'q':17,'r':18\n",
    "      ,'s':19,'t':20,'u':21,'v':22,'w':23,'x':24,'y':25,'z':26}\n",
    "m=7\n",
    "v=pow(m, -1, 27)\n",
    "key=10\n",
    "ciphr=\"iqajmqho\"\n",
    "c=list(ciphr)\n",
    "p=[]\n",
    "for i in range(len(c)):\n",
    "    res=(v*(alph[c[i]]-key))%27 \n",
    "    for letter,val in alph.items():\n",
    "        if val == res:\n",
    "            p.append(letter)\n",
    "plain=''.join(p)\n",
    "print(\"plain text is \",plain)\n"
   ]
  },
  {
   "cell_type": "code",
   "execution_count": null,
   "id": "3ec40ce7",
   "metadata": {},
   "outputs": [],
   "source": []
  }
 ],
 "metadata": {
  "kernelspec": {
   "display_name": "Python 3 (ipykernel)",
   "language": "python",
   "name": "python3"
  },
  "language_info": {
   "codemirror_mode": {
    "name": "ipython",
    "version": 3
   },
   "file_extension": ".py",
   "mimetype": "text/x-python",
   "name": "python",
   "nbconvert_exporter": "python",
   "pygments_lexer": "ipython3",
   "version": "3.10.0"
  }
 },
 "nbformat": 4,
 "nbformat_minor": 5
}
